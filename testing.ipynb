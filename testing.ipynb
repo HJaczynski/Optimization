{
 "cells": [
  {
   "cell_type": "code",
   "execution_count": 19,
   "id": "d220b1f5",
   "metadata": {},
   "outputs": [],
   "source": [
    "from algorithms import *"
   ]
  },
  {
   "cell_type": "code",
   "execution_count": null,
   "id": "9c4a9e79",
   "metadata": {},
   "outputs": [
    {
     "name": "stdout",
     "output_type": "stream",
     "text": [
      "Using scipy LineaSearch\n"
     ]
    },
    {
     "name": "stderr",
     "output_type": "stream",
     "text": [
      "c:\\Users\\hucu\\Desktop\\Optimization\\venv\\Lib\\site-packages\\scipy\\optimize\\_linesearch.py:312: LineSearchWarning: Rounding errors prevent the line search from converging\n",
      "  alpha_star, phi_star, old_fval, derphi_star = scalar_search_wolfe2(\n",
      "c:\\Users\\hucu\\Desktop\\Optimization\\algorithms.py:57: LineSearchWarning: The line search algorithm did not converge\n",
      "  alpha, _, _, f_new, f_old, derphi = line_search(\n",
      "c:\\Users\\hucu\\Desktop\\Optimization\\algorithms.py:153: RuntimeWarning: CG doesn't converge\n",
      "  warnings.warn(\n",
      "c:\\Users\\hucu\\Desktop\\Optimization\\venv\\Lib\\site-packages\\scipy\\optimize\\_linesearch.py:312: LineSearchWarning: Rounding errors prevent the line search from converging\n",
      "  alpha_star, phi_star, old_fval, derphi_star = scalar_search_wolfe2(\n",
      "c:\\Users\\hucu\\Desktop\\Optimization\\algorithms.py:57: LineSearchWarning: The line search algorithm did not converge\n",
      "  alpha, _, _, f_new, f_old, derphi = line_search(\n",
      "c:\\Users\\hucu\\Desktop\\Optimization\\algorithms.py:153: RuntimeWarning: CG doesn't converge\n",
      "  warnings.warn(\n"
     ]
    },
    {
     "name": "stdout",
     "output_type": "stream",
     "text": [
      "Using scipy LineaSearch\n",
      "  solver  syn_accuracy  syn_time_s  real_accuracy  real_time_s\n",
      "0     cg          0.59    0.281565       0.959064     0.008999\n",
      "1  lbfgs          0.59    0.221642       0.959064     0.010000\n",
      "\n",
      "Synthetic Data \n",
      "Using scipy LineaSearch\n",
      "\n",
      "Solver = cg\n",
      "              precision    recall  f1-score   support\n",
      "\n",
      "           0       0.57      0.87      0.69       156\n",
      "           1       0.67      0.29      0.41       144\n",
      "\n",
      "    accuracy                           0.59       300\n",
      "   macro avg       0.62      0.58      0.55       300\n",
      "weighted avg       0.62      0.59      0.55       300\n",
      "\n"
     ]
    },
    {
     "name": "stderr",
     "output_type": "stream",
     "text": [
      "c:\\Users\\hucu\\Desktop\\Optimization\\venv\\Lib\\site-packages\\scipy\\optimize\\_linesearch.py:312: LineSearchWarning: Rounding errors prevent the line search from converging\n",
      "  alpha_star, phi_star, old_fval, derphi_star = scalar_search_wolfe2(\n",
      "c:\\Users\\hucu\\Desktop\\Optimization\\algorithms.py:57: LineSearchWarning: The line search algorithm did not converge\n",
      "  alpha, _, _, f_new, f_old, derphi = line_search(\n",
      "c:\\Users\\hucu\\Desktop\\Optimization\\algorithms.py:153: RuntimeWarning: CG doesn't converge\n",
      "  warnings.warn(\n"
     ]
    },
    {
     "name": "stdout",
     "output_type": "stream",
     "text": [
      "\n",
      "Solver = lbfgs\n",
      "              precision    recall  f1-score   support\n",
      "\n",
      "           0       0.57      0.85      0.68       156\n",
      "           1       0.66      0.31      0.42       144\n",
      "\n",
      "    accuracy                           0.59       300\n",
      "   macro avg       0.61      0.58      0.55       300\n",
      "weighted avg       0.61      0.59      0.56       300\n",
      "\n",
      "\n",
      "Real Data:\n",
      "Using scipy LineaSearch\n",
      "\n",
      "Solver = cg\n",
      "              precision    recall  f1-score   support\n",
      "\n",
      "           0       0.97      0.94      0.95        63\n",
      "           1       0.96      0.98      0.97       108\n",
      "\n",
      "    accuracy                           0.96       171\n",
      "   macro avg       0.97      0.96      0.96       171\n",
      "weighted avg       0.96      0.96      0.96       171\n",
      "\n",
      "\n",
      "Solver = lbfgs\n",
      "              precision    recall  f1-score   support\n",
      "\n",
      "           0       1.00      0.94      0.97        63\n",
      "           1       0.96      1.00      0.98       108\n",
      "\n",
      "    accuracy                           0.98       171\n",
      "   macro avg       0.98      0.97      0.97       171\n",
      "weighted avg       0.98      0.98      0.98       171\n",
      "\n"
     ]
    },
    {
     "name": "stderr",
     "output_type": "stream",
     "text": [
      "c:\\Users\\hucu\\Desktop\\Optimization\\venv\\Lib\\site-packages\\scipy\\optimize\\_linesearch.py:312: LineSearchWarning: Rounding errors prevent the line search from converging\n",
      "  alpha_star, phi_star, old_fval, derphi_star = scalar_search_wolfe2(\n",
      "c:\\Users\\hucu\\Desktop\\Optimization\\algorithms.py:57: LineSearchWarning: The line search algorithm did not converge\n",
      "  alpha, _, _, f_new, f_old, derphi = line_search(\n",
      "c:\\Users\\hucu\\Desktop\\Optimization\\algorithms.py:153: RuntimeWarning: CG doesn't converge\n",
      "  warnings.warn(\n"
     ]
    }
   ],
   "source": [
    "import numpy as np\n",
    "import pandas as pd\n",
    "import time\n",
    "\n",
    "from sklearn.datasets import make_classification, load_breast_cancer\n",
    "from sklearn.model_selection import train_test_split\n",
    "from sklearn.preprocessing import StandardScaler\n",
    "from sklearn.metrics import accuracy_score, classification_report\n",
    "\n",
    "\n",
    "def test_solvers():\n",
    "    X_syn, y_syn = make_classification(\n",
    "        n_samples=1000, n_features=2000, \n",
    "        n_informative=1998, n_redundant=2,\n",
    "        n_classes=2, random_state=42, class_sep=2.0,\n",
    "    )\n",
    "    data = load_breast_cancer()\n",
    "    X_real, y_real = data.data, data.target\n",
    "\n",
    "    scaler = StandardScaler()\n",
    "    X_syn = scaler.fit_transform(X_syn)\n",
    "    X_real = scaler.fit_transform(X_real)\n",
    "\n",
    "    X_syn_train, X_syn_test, y_syn_train, y_syn_test = train_test_split(\n",
    "        X_syn, y_syn, test_size=0.3, random_state=1)\n",
    "    X_real_train, X_real_test, y_real_train, y_real_test = train_test_split(\n",
    "        X_real, y_real, test_size=0.3, random_state=1)\n",
    "\n",
    "    solvers = ['cg', 'lbfgs']\n",
    "    results = []\n",
    "\n",
    "    for solver in solvers:\n",
    "        clf = SquaredHingeClassifier(C=1.0, solver=solver)\n",
    "\n",
    "\n",
    "        #synthetic data\n",
    "        t0 = time.time()\n",
    "        clf.fit(X_syn_train, y_syn_train)\n",
    "        t_syn = time.time() - t0\n",
    "        y_syn_pred = clf.predict(X_syn_test)\n",
    "        acc_syn = accuracy_score(y_syn_test, y_syn_pred)\n",
    "\n",
    "        #real data\n",
    "        t0 = time.time()\n",
    "        clf.fit(X_real_train, y_real_train)\n",
    "        t_real = time.time() - t0\n",
    "        y_real_pred = clf.predict(X_real_test)\n",
    "        acc_real = accuracy_score(y_real_test, y_real_pred)\n",
    "\n",
    "        results.append({\n",
    "            'solver': solver,\n",
    "            'syn_accuracy': acc_syn,\n",
    "            'syn_time_s': t_syn,\n",
    "            'real_accuracy': acc_real,\n",
    "            'real_time_s': t_real\n",
    "        })\n",
    "\n",
    "    df = pd.DataFrame(results)\n",
    "    print(df)\n",
    "    print(\"\\nSynthetic Data \")\n",
    "    for solver in solvers:\n",
    "        clf = SquaredHingeClassifier(C=1.0, solver=solver)\n",
    "        clf.fit(X_syn_train, y_syn_train)\n",
    "        print(f\"\\nSolver = {solver}\")\n",
    "        print(classification_report(y_syn_test, clf.predict(X_syn_test)))\n",
    "    \n",
    "    print(\"\\nReal Data:\")\n",
    "    for solver in solvers:\n",
    "        clf = SquaredHingeClassifier(C=1.0, solver=solver)\n",
    "        clf.fit(X_real_train, y_real_train)\n",
    "        print(f\"\\nSolver = {solver}\")\n",
    "        print(classification_report(y_real_test, clf.predict(X_real_test)))\n",
    "\n",
    "if __name__ == \"__main__\":\n",
    "    test_solvers()\n"
   ]
  }
 ],
 "metadata": {
  "kernelspec": {
   "display_name": "venv",
   "language": "python",
   "name": "python3"
  },
  "language_info": {
   "codemirror_mode": {
    "name": "ipython",
    "version": 3
   },
   "file_extension": ".py",
   "mimetype": "text/x-python",
   "name": "python",
   "nbconvert_exporter": "python",
   "pygments_lexer": "ipython3",
   "version": "3.12.5"
  }
 },
 "nbformat": 4,
 "nbformat_minor": 5
}
